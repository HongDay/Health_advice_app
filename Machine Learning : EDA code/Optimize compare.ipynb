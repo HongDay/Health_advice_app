{
  "cells": [
    {
      "cell_type": "markdown",
      "metadata": {
        "id": "wHMJ2eYotCWW"
      },
      "source": [
        "### Optimization Data Additional Train"
      ]
    },
    {
      "cell_type": "code",
      "execution_count": 173,
      "metadata": {
        "id": "TcHDyyNIeVLz"
      },
      "outputs": [],
      "source": [
        "import pandas as pd\n",
        "\n",
        "df_original = pd.read_csv('final-6.csv')\n",
        "df1 = pd.read_csv('sensor_data_Exercise_expanded.csv', index_col=False)\n",
        "df2 = pd.read_csv('sensor_data_Sleep.csv', index_col=False)\n",
        "df3 = pd.read_csv('sensor_data_study.csv', index_col=False)\n",
        "df4 = pd.read_csv('sensor_data_study2.csv', index_col=False)"
      ]
    },
    {
      "cell_type": "code",
      "execution_count": 174,
      "metadata": {},
      "outputs": [],
      "source": [
        "df1 = df1.drop(columns=['sec','week','idx1','idx2','idx3','idx4','idx5','idx6','idx7','idx8','idx9','idx0'])\n",
        "df2 = df2.drop(columns=['sec','week','idx1','idx2','idx3','idx4','idx5','idx6','idx7','idx8','idx9','idx0'])\n",
        "df3 = df3.drop(columns=['sec','week','idx1','idx2','idx3','idx4','idx5','idx6','idx7','idx8','idx9','idx0'])\n",
        "df4 = df4.drop(columns=['sec','week','idx1','idx2','idx3','idx4','idx5','idx6','idx7','idx8','idx9','idx0'])"
      ]
    },
    {
      "cell_type": "code",
      "execution_count": 175,
      "metadata": {},
      "outputs": [],
      "source": [
        "df_final = pd.concat([df_original, df1, df3, df4], axis=0)\n",
        "df_final = df_final[df_final['peak']!=0]"
      ]
    },
    {
      "cell_type": "code",
      "execution_count": 176,
      "metadata": {},
      "outputs": [],
      "source": [
        "df_sleep = df_final[df_final['category'] == 'sleep']\n",
        "df_before = df_final[df_final['category'] != 'sleep']\n",
        "\n",
        "df_sleep_head = df_sleep.head(500)\n",
        "\n",
        "df_sleep_rest = df_sleep.iloc[500:]\n",
        "\n",
        "df_before = pd.concat([df_sleep_head, df_before], axis=0)"
      ]
    },
    {
      "cell_type": "code",
      "execution_count": 177,
      "metadata": {},
      "outputs": [
        {
          "data": {
            "text/plain": [
              "category\n",
              "else        3836\n",
              "study       2643\n",
              "class       2167\n",
              "exercise     870\n",
              "sleep        500\n",
              "Name: count, dtype: int64"
            ]
          },
          "execution_count": 177,
          "metadata": {},
          "output_type": "execute_result"
        }
      ],
      "source": [
        "df_before['category'].value_counts()"
      ]
    },
    {
      "cell_type": "code",
      "execution_count": 178,
      "metadata": {},
      "outputs": [],
      "source": [
        "df_add = df2.iloc[:int(0.8*len(df2))]\n",
        "df_test = df2.iloc[int(0.8*len(df2)):]"
      ]
    },
    {
      "cell_type": "code",
      "execution_count": 179,
      "metadata": {},
      "outputs": [],
      "source": [
        "df_after = pd.concat([df_final, df_add], axis=0)"
      ]
    },
    {
      "cell_type": "code",
      "execution_count": 180,
      "metadata": {},
      "outputs": [
        {
          "data": {
            "text/plain": [
              "category\n",
              "sleep       10023\n",
              "else         3836\n",
              "study        2643\n",
              "class        2167\n",
              "exercise      870\n",
              "Name: count, dtype: int64"
            ]
          },
          "execution_count": 180,
          "metadata": {},
          "output_type": "execute_result"
        }
      ],
      "source": [
        "df_after['category'].value_counts()"
      ]
    },
    {
      "cell_type": "code",
      "execution_count": 181,
      "metadata": {
        "id": "aLgzDUcil82V"
      },
      "outputs": [],
      "source": [
        "df_before = df_before[df_before['category'] != 'else']\n",
        "df_after = df_after[df_after['category'] != 'else']"
      ]
    },
    {
      "cell_type": "markdown",
      "metadata": {
        "id": "uD7mAL0OQ69N"
      },
      "source": [
        "### Start LSTM model"
      ]
    },
    {
      "cell_type": "code",
      "execution_count": 182,
      "metadata": {
        "id": "Qzgn8WwCQ8vB"
      },
      "outputs": [],
      "source": [
        "# 1️⃣ LSTM 모델 구성 코드\n",
        "import pandas as pd\n",
        "import numpy as np\n",
        "from sklearn.model_selection import train_test_split\n",
        "from sklearn.preprocessing import LabelEncoder, StandardScaler\n",
        "from tensorflow.keras.models import Sequential\n",
        "from tensorflow.keras.layers import LSTM, Dense\n",
        "from tensorflow.keras.utils import to_categorical"
      ]
    },
    {
      "cell_type": "code",
      "execution_count": 194,
      "metadata": {
        "id": "SWBOmaopTy9S"
      },
      "outputs": [],
      "source": [
        "# Load and preprocess data\n",
        "#df = pd.read_csv('final.csv')\n",
        "df = df_after\n",
        "\n",
        "encoder = LabelEncoder()\n",
        "Y = encoder.fit_transform(df['category'])\n",
        "X = df.drop(columns=['category'])\n",
        "\n",
        "Y_test = encoder.transform(df_test['category'])\n",
        "X_test = df_test.drop(columns=['category'])"
      ]
    },
    {
      "cell_type": "code",
      "execution_count": 195,
      "metadata": {
        "id": "ay2y28EKUUwK"
      },
      "outputs": [],
      "source": [
        "# Scale features\n",
        "scaler = StandardScaler()\n",
        "X = scaler.fit_transform(X)\n",
        "X_test = scaler.transform(X_test)"
      ]
    },
    {
      "cell_type": "code",
      "execution_count": 196,
      "metadata": {
        "id": "1HpogU5yULzf"
      },
      "outputs": [],
      "source": [
        "# Reshape to (samples, timesteps=12, features)\n",
        "X_seq = []\n",
        "y_seq = []\n",
        "seq_length = 12\n",
        "\n",
        "previous_label = Y[0]\n",
        "\n",
        "i = 0\n",
        "while i <= len(X) - seq_length:\n",
        "    current_label = Y[i + seq_length - 1]\n",
        "\n",
        "    if current_label != previous_label:\n",
        "        previous_label = Y[i + 1]\n",
        "        i += 1\n",
        "    else:\n",
        "        X_seq.append(X[i:i+seq_length])\n",
        "        y_seq.append(current_label)\n",
        "        previous_label = current_label\n",
        "        i += seq_length\n",
        "\n",
        "X_seq = np.array(X_seq)\n",
        "y_seq = to_categorical(y_seq)"
      ]
    },
    {
      "cell_type": "code",
      "execution_count": 197,
      "metadata": {
        "id": "uW8RqmZlyejT"
      },
      "outputs": [],
      "source": [
        "# Reshape to (samples, timesteps=12, features)\n",
        "X_t = []\n",
        "y_t = []\n",
        "seq_length = 12\n",
        "\n",
        "previous_label = Y_test[0]\n",
        "\n",
        "i = 0\n",
        "while i <= len(X_test) - seq_length:\n",
        "    current_label = Y_test[i + seq_length - 1]\n",
        "\n",
        "    if current_label != previous_label:\n",
        "        previous_label = Y_test[i + 1]\n",
        "        i += 1\n",
        "    else:\n",
        "        X_t.append(X_test[i:i+seq_length])\n",
        "        y_t.append(current_label)\n",
        "        previous_label = current_label\n",
        "        i += seq_length\n",
        "\n",
        "X_t = np.array(X_t)\n",
        "y_t = to_categorical(y_t, num_classes=4)"
      ]
    },
    {
      "cell_type": "code",
      "execution_count": 198,
      "metadata": {
        "colab": {
          "base_uri": "https://localhost:8080/"
        },
        "id": "4DgSG9ZzWglu",
        "outputId": "99a8c828-8bfb-4b14-d44c-58f2439f6cf4"
      },
      "outputs": [
        {
          "name": "stderr",
          "output_type": "stream",
          "text": [
            "/Users/hongday/Library/Python/3.9/lib/python/site-packages/keras/src/layers/rnn/rnn.py:199: UserWarning: Do not pass an `input_shape`/`input_dim` argument to a layer. When using Sequential models, prefer using an `Input(shape)` object as the first layer in the model instead.\n",
            "  super().__init__(**kwargs)\n"
          ]
        }
      ],
      "source": [
        "# Build model\n",
        "model = Sequential()\n",
        "model.add(LSTM(64, input_shape=(seq_length, X_seq.shape[2])))\n",
        "model.add(Dense(32, activation='relu'))\n",
        "model.add(Dense(y_seq.shape[1], activation='softmax'))\n",
        "\n",
        "model.compile(loss='categorical_crossentropy', optimizer='adam', metrics=['accuracy'])"
      ]
    },
    {
      "cell_type": "code",
      "execution_count": 199,
      "metadata": {
        "colab": {
          "base_uri": "https://localhost:8080/"
        },
        "id": "PKkt0TvpYvC-",
        "outputId": "51707160-4458-4f2d-e19a-d9c619d65dac"
      },
      "outputs": [
        {
          "name": "stdout",
          "output_type": "stream",
          "text": [
            "Epoch 1/20\n",
            "\u001b[1m41/41\u001b[0m \u001b[32m━━━━━━━━━━━━━━━━━━━━\u001b[0m\u001b[37m\u001b[0m \u001b[1m1s\u001b[0m 9ms/step - accuracy: 0.9382 - loss: 0.7207 - val_accuracy: 1.0000 - val_loss: 0.0068\n",
            "Epoch 2/20\n",
            "\u001b[1m41/41\u001b[0m \u001b[32m━━━━━━━━━━━━━━━━━━━━\u001b[0m\u001b[37m\u001b[0m \u001b[1m0s\u001b[0m 5ms/step - accuracy: 0.9983 - loss: 0.0381 - val_accuracy: 1.0000 - val_loss: 0.0026\n",
            "Epoch 3/20\n",
            "\u001b[1m41/41\u001b[0m \u001b[32m━━━━━━━━━━━━━━━━━━━━\u001b[0m\u001b[37m\u001b[0m \u001b[1m0s\u001b[0m 5ms/step - accuracy: 1.0000 - loss: 0.0090 - val_accuracy: 1.0000 - val_loss: 0.0014\n",
            "Epoch 4/20\n",
            "\u001b[1m41/41\u001b[0m \u001b[32m━━━━━━━━━━━━━━━━━━━━\u001b[0m\u001b[37m\u001b[0m \u001b[1m0s\u001b[0m 5ms/step - accuracy: 1.0000 - loss: 0.0031 - val_accuracy: 1.0000 - val_loss: 8.5964e-04\n",
            "Epoch 5/20\n",
            "\u001b[1m41/41\u001b[0m \u001b[32m━━━━━━━━━━━━━━━━━━━━\u001b[0m\u001b[37m\u001b[0m \u001b[1m0s\u001b[0m 6ms/step - accuracy: 1.0000 - loss: 0.0020 - val_accuracy: 1.0000 - val_loss: 5.8404e-04\n",
            "Epoch 6/20\n",
            "\u001b[1m41/41\u001b[0m \u001b[32m━━━━━━━━━━━━━━━━━━━━\u001b[0m\u001b[37m\u001b[0m \u001b[1m0s\u001b[0m 5ms/step - accuracy: 1.0000 - loss: 0.0014 - val_accuracy: 1.0000 - val_loss: 4.2398e-04\n",
            "Epoch 7/20\n",
            "\u001b[1m41/41\u001b[0m \u001b[32m━━━━━━━━━━━━━━━━━━━━\u001b[0m\u001b[37m\u001b[0m \u001b[1m0s\u001b[0m 5ms/step - accuracy: 1.0000 - loss: 0.0010 - val_accuracy: 1.0000 - val_loss: 3.2662e-04\n",
            "Epoch 8/20\n",
            "\u001b[1m41/41\u001b[0m \u001b[32m━━━━━━━━━━━━━━━━━━━━\u001b[0m\u001b[37m\u001b[0m \u001b[1m0s\u001b[0m 5ms/step - accuracy: 1.0000 - loss: 7.9581e-04 - val_accuracy: 1.0000 - val_loss: 2.6083e-04\n",
            "Epoch 9/20\n",
            "\u001b[1m41/41\u001b[0m \u001b[32m━━━━━━━━━━━━━━━━━━━━\u001b[0m\u001b[37m\u001b[0m \u001b[1m0s\u001b[0m 5ms/step - accuracy: 1.0000 - loss: 6.0371e-04 - val_accuracy: 1.0000 - val_loss: 2.1167e-04\n",
            "Epoch 10/20\n",
            "\u001b[1m41/41\u001b[0m \u001b[32m━━━━━━━━━━━━━━━━━━━━\u001b[0m\u001b[37m\u001b[0m \u001b[1m0s\u001b[0m 5ms/step - accuracy: 1.0000 - loss: 5.1580e-04 - val_accuracy: 1.0000 - val_loss: 1.7592e-04\n",
            "Epoch 11/20\n",
            "\u001b[1m41/41\u001b[0m \u001b[32m━━━━━━━━━━━━━━━━━━━━\u001b[0m\u001b[37m\u001b[0m \u001b[1m0s\u001b[0m 5ms/step - accuracy: 1.0000 - loss: 4.4473e-04 - val_accuracy: 1.0000 - val_loss: 1.4930e-04\n",
            "Epoch 12/20\n",
            "\u001b[1m41/41\u001b[0m \u001b[32m━━━━━━━━━━━━━━━━━━━━\u001b[0m\u001b[37m\u001b[0m \u001b[1m0s\u001b[0m 5ms/step - accuracy: 1.0000 - loss: 3.5690e-04 - val_accuracy: 1.0000 - val_loss: 1.2829e-04\n",
            "Epoch 13/20\n",
            "\u001b[1m41/41\u001b[0m \u001b[32m━━━━━━━━━━━━━━━━━━━━\u001b[0m\u001b[37m\u001b[0m \u001b[1m0s\u001b[0m 5ms/step - accuracy: 1.0000 - loss: 3.0240e-04 - val_accuracy: 1.0000 - val_loss: 1.1167e-04\n",
            "Epoch 14/20\n",
            "\u001b[1m41/41\u001b[0m \u001b[32m━━━━━━━━━━━━━━━━━━━━\u001b[0m\u001b[37m\u001b[0m \u001b[1m0s\u001b[0m 6ms/step - accuracy: 1.0000 - loss: 2.6883e-04 - val_accuracy: 1.0000 - val_loss: 9.8413e-05\n",
            "Epoch 15/20\n",
            "\u001b[1m41/41\u001b[0m \u001b[32m━━━━━━━━━━━━━━━━━━━━\u001b[0m\u001b[37m\u001b[0m \u001b[1m0s\u001b[0m 6ms/step - accuracy: 1.0000 - loss: 2.2339e-04 - val_accuracy: 1.0000 - val_loss: 8.6967e-05\n",
            "Epoch 16/20\n",
            "\u001b[1m41/41\u001b[0m \u001b[32m━━━━━━━━━━━━━━━━━━━━\u001b[0m\u001b[37m\u001b[0m \u001b[1m0s\u001b[0m 5ms/step - accuracy: 1.0000 - loss: 2.0718e-04 - val_accuracy: 1.0000 - val_loss: 7.7944e-05\n",
            "Epoch 17/20\n",
            "\u001b[1m41/41\u001b[0m \u001b[32m━━━━━━━━━━━━━━━━━━━━\u001b[0m\u001b[37m\u001b[0m \u001b[1m0s\u001b[0m 5ms/step - accuracy: 1.0000 - loss: 1.7859e-04 - val_accuracy: 1.0000 - val_loss: 7.0080e-05\n",
            "Epoch 18/20\n",
            "\u001b[1m41/41\u001b[0m \u001b[32m━━━━━━━━━━━━━━━━━━━━\u001b[0m\u001b[37m\u001b[0m \u001b[1m0s\u001b[0m 6ms/step - accuracy: 1.0000 - loss: 1.6585e-04 - val_accuracy: 1.0000 - val_loss: 6.3344e-05\n",
            "Epoch 19/20\n",
            "\u001b[1m41/41\u001b[0m \u001b[32m━━━━━━━━━━━━━━━━━━━━\u001b[0m\u001b[37m\u001b[0m \u001b[1m0s\u001b[0m 5ms/step - accuracy: 1.0000 - loss: 1.4926e-04 - val_accuracy: 1.0000 - val_loss: 5.7587e-05\n",
            "Epoch 20/20\n",
            "\u001b[1m41/41\u001b[0m \u001b[32m━━━━━━━━━━━━━━━━━━━━\u001b[0m\u001b[37m\u001b[0m \u001b[1m0s\u001b[0m 6ms/step - accuracy: 1.0000 - loss: 1.4181e-04 - val_accuracy: 1.0000 - val_loss: 5.2581e-05\n"
          ]
        },
        {
          "name": "stderr",
          "output_type": "stream",
          "text": [
            "WARNING:absl:You are saving your model as an HDF5 file via `model.save()` or `keras.saving.save_model(model)`. This file format is considered legacy. We recommend using instead the native Keras format, e.g. `model.save('my_model.keras')` or `keras.saving.save_model(model, 'my_model.keras')`. \n"
          ]
        }
      ],
      "source": [
        "model.fit(X_seq, y_seq, epochs=20, batch_size=32, validation_data=(X_t, y_t))\n",
        "model.save(\"activity_model.h5\")"
      ]
    },
    {
      "cell_type": "markdown",
      "metadata": {
        "id": "R7EL8_Tl6-xD"
      },
      "source": [
        "기존 수집된 데이터의 일부를 사용하는 경우 (학습에 사용 안한)"
      ]
    },
    {
      "cell_type": "code",
      "execution_count": 200,
      "metadata": {
        "colab": {
          "base_uri": "https://localhost:8080/"
        },
        "id": "aG-l6wqQIZUq",
        "outputId": "52c21ed4-e279-4f2a-b0e0-0f723d2a3299"
      },
      "outputs": [
        {
          "name": "stdout",
          "output_type": "stream",
          "text": [
            "\u001b[1m3/3\u001b[0m \u001b[32m━━━━━━━━━━━━━━━━━━━━\u001b[0m\u001b[37m\u001b[0m \u001b[1m0s\u001b[0m 49ms/step\n",
            "[[3.0178113e-05 5.0102249e-06 9.9994493e-01 1.9877431e-05]\n",
            " [2.9857660e-05 4.9084147e-06 9.9994576e-01 1.9475237e-05]\n",
            " [2.9981802e-05 4.9257824e-06 9.9994552e-01 1.9558358e-05]\n",
            " [2.7971661e-05 4.4829621e-06 9.9994946e-01 1.8173858e-05]\n",
            " [2.8251665e-05 4.5654092e-06 9.9994886e-01 1.8368708e-05]\n",
            " [3.0637075e-05 5.0919602e-06 9.9994409e-01 2.0193269e-05]\n",
            " [3.0468174e-05 5.0609624e-06 9.9994433e-01 2.0111420e-05]\n",
            " [2.9098901e-05 4.7510666e-06 9.9994731e-01 1.8804441e-05]\n",
            " [2.9275923e-05 4.7958006e-06 9.9994695e-01 1.8898063e-05]\n",
            " [2.9294524e-05 4.8120555e-06 9.9994695e-01 1.8991688e-05]\n",
            " [2.8736880e-05 4.6804507e-06 9.9994802e-01 1.8647977e-05]\n",
            " [2.8928416e-05 4.6913487e-06 9.9994779e-01 1.8655193e-05]\n",
            " [2.8799044e-05 4.6630876e-06 9.9994791e-01 1.8572015e-05]\n",
            " [2.8797098e-05 4.6174237e-06 9.9994802e-01 1.8615887e-05]\n",
            " [2.8981431e-05 4.6531400e-06 9.9994767e-01 1.8748740e-05]\n",
            " [2.9226272e-05 4.7451567e-06 9.9994707e-01 1.8905546e-05]\n",
            " [2.9363724e-05 4.7703788e-06 9.9994695e-01 1.8985802e-05]\n",
            " [2.9830426e-05 4.8995944e-06 9.9994588e-01 1.9439076e-05]\n",
            " [2.9653671e-05 4.8465195e-06 9.9994624e-01 1.9342404e-05]\n",
            " [2.9964483e-05 4.8855395e-06 9.9994564e-01 1.9521260e-05]\n",
            " [3.0062458e-05 4.9080058e-06 9.9994552e-01 1.9573416e-05]\n",
            " [2.9514560e-05 4.8270927e-06 9.9994659e-01 1.9054962e-05]\n",
            " [2.9407212e-05 4.7915391e-06 9.9994683e-01 1.8975572e-05]\n",
            " [2.9133087e-05 4.7538365e-06 9.9994743e-01 1.8747680e-05]\n",
            " [2.8985798e-05 4.7122576e-06 9.9994767e-01 1.8649605e-05]\n",
            " [2.8423590e-05 4.5863462e-06 9.9994862e-01 1.8328194e-05]\n",
            " [2.8564020e-05 4.6192145e-06 9.9994850e-01 1.8413040e-05]\n",
            " [2.9323541e-05 4.7797653e-06 9.9994707e-01 1.8876146e-05]\n",
            " [2.9052462e-05 4.7154799e-06 9.9994755e-01 1.8709048e-05]\n",
            " [2.8764711e-05 4.6485825e-06 9.9994802e-01 1.8555766e-05]\n",
            " [2.8745679e-05 4.6454534e-06 9.9994802e-01 1.8558650e-05]\n",
            " [2.7731458e-05 4.4328076e-06 9.9995005e-01 1.7808847e-05]\n",
            " [2.7852153e-05 4.4537819e-06 9.9994981e-01 1.7872868e-05]\n",
            " [3.0278436e-05 4.9507489e-06 9.9994493e-01 1.9739453e-05]\n",
            " [3.0392735e-05 4.9870137e-06 9.9994481e-01 1.9840196e-05]\n",
            " [2.7943717e-05 4.3992231e-06 9.9994946e-01 1.8225564e-05]\n",
            " [2.8485047e-05 4.5322899e-06 9.9994838e-01 1.8605528e-05]\n",
            " [3.0039530e-05 4.9173059e-06 9.9994552e-01 1.9525613e-05]\n",
            " [3.0084624e-05 4.9511905e-06 9.9994540e-01 1.9545694e-05]\n",
            " [2.8080329e-05 4.4894559e-06 9.9994922e-01 1.8273195e-05]\n",
            " [2.8572595e-05 4.6055948e-06 9.9994826e-01 1.8618482e-05]\n",
            " [3.0501935e-05 5.0471454e-06 9.9994457e-01 1.9852096e-05]\n",
            " [3.0909297e-05 5.1279139e-06 9.9994397e-01 2.0069494e-05]\n",
            " [2.8883924e-05 4.6532741e-06 9.9994779e-01 1.8689136e-05]\n",
            " [2.8886237e-05 4.6488381e-06 9.9994779e-01 1.8705130e-05]\n",
            " [2.8802808e-05 4.5986849e-06 9.9994791e-01 1.8754145e-05]\n",
            " [2.8877694e-05 4.6073492e-06 9.9994767e-01 1.8813165e-05]\n",
            " [2.8727896e-05 4.6577243e-06 9.9994814e-01 1.8487126e-05]\n",
            " [2.8599696e-05 4.6247942e-06 9.9994838e-01 1.8386381e-05]\n",
            " [3.1148556e-05 5.2267064e-06 9.9994338e-01 2.0293082e-05]\n",
            " [3.1134237e-05 5.2190458e-06 9.9994338e-01 2.0279076e-05]\n",
            " [2.8557426e-05 4.6374344e-06 9.9994838e-01 1.8454260e-05]\n",
            " [2.8450031e-05 4.6106588e-06 9.9994862e-01 1.8400700e-05]\n",
            " [2.8741375e-05 4.6496998e-06 9.9994802e-01 1.8549217e-05]\n",
            " [2.8826935e-05 4.6774740e-06 9.9994791e-01 1.8599221e-05]\n",
            " [2.7888031e-05 4.4374674e-06 9.9994969e-01 1.7957402e-05]\n",
            " [2.7878803e-05 4.4251988e-06 9.9994969e-01 1.7959219e-05]\n",
            " [2.8896375e-05 4.6454302e-06 9.9994779e-01 1.8766326e-05]\n",
            " [2.9093848e-05 4.7045946e-06 9.9994719e-01 1.8902898e-05]\n",
            " [2.8252798e-05 4.5074812e-06 9.9994898e-01 1.8268729e-05]\n",
            " [2.8227756e-05 4.4916865e-06 9.9994910e-01 1.8256678e-05]\n",
            " [2.8151057e-05 4.5070692e-06 9.9994910e-01 1.8217372e-05]\n",
            " [2.8092785e-05 4.4901412e-06 9.9994934e-01 1.8162957e-05]\n",
            " [2.8533690e-05 4.6191967e-06 9.9994850e-01 1.8395102e-05]\n",
            " [2.8082875e-05 4.5080765e-06 9.9994934e-01 1.8123836e-05]\n",
            " [2.8685728e-05 4.6444516e-06 9.9994791e-01 1.8698371e-05]\n",
            " [2.8926754e-05 4.7028830e-06 9.9994755e-01 1.8836861e-05]\n",
            " [2.8942210e-05 4.7138751e-06 9.9994767e-01 1.8763569e-05]\n",
            " [2.8914154e-05 4.7093458e-06 9.9994767e-01 1.8733512e-05]\n",
            " [2.8374900e-05 4.5694555e-06 9.9994886e-01 1.8266008e-05]\n",
            " [2.8165106e-05 4.5145466e-06 9.9994922e-01 1.8132807e-05]\n",
            " [2.8231038e-05 4.5049292e-06 9.9994898e-01 1.8188033e-05]\n",
            " [2.8183189e-05 4.4947465e-06 9.9994922e-01 1.8141436e-05]\n",
            " [3.0547548e-05 5.0305894e-06 9.9994433e-01 2.0090718e-05]\n",
            " [3.0414387e-05 5.0205399e-06 9.9994457e-01 2.0033705e-05]\n",
            " [2.7613471e-05 4.3811519e-06 9.9995017e-01 1.7873879e-05]]\n",
            "Predicted categories for X_seq:\n"
          ]
        },
        {
          "data": {
            "text/plain": [
              "array(['sleep', 'sleep', 'sleep', 'sleep', 'sleep', 'sleep', 'sleep',\n",
              "       'sleep', 'sleep', 'sleep', 'sleep', 'sleep', 'sleep', 'sleep',\n",
              "       'sleep', 'sleep', 'sleep', 'sleep', 'sleep', 'sleep', 'sleep',\n",
              "       'sleep', 'sleep', 'sleep', 'sleep', 'sleep', 'sleep', 'sleep',\n",
              "       'sleep', 'sleep', 'sleep', 'sleep', 'sleep', 'sleep', 'sleep',\n",
              "       'sleep', 'sleep', 'sleep', 'sleep', 'sleep', 'sleep', 'sleep',\n",
              "       'sleep', 'sleep', 'sleep', 'sleep', 'sleep', 'sleep', 'sleep',\n",
              "       'sleep', 'sleep', 'sleep', 'sleep', 'sleep', 'sleep', 'sleep',\n",
              "       'sleep', 'sleep', 'sleep', 'sleep', 'sleep', 'sleep', 'sleep',\n",
              "       'sleep', 'sleep', 'sleep', 'sleep', 'sleep', 'sleep', 'sleep',\n",
              "       'sleep', 'sleep', 'sleep', 'sleep', 'sleep', 'sleep'], dtype=object)"
            ]
          },
          "execution_count": 200,
          "metadata": {},
          "output_type": "execute_result"
        }
      ],
      "source": [
        "predictions = model.predict(X_t)\n",
        "\n",
        "print(predictions)\n",
        "\n",
        "# Convert predictions to class labels\n",
        "predicted_classes = np.argmax(predictions, axis=1)\n",
        "\n",
        "# Decode class labels back to original categories\n",
        "predicted_categories = encoder.inverse_transform(predicted_classes)\n",
        "\n",
        "print(\"Predicted categories for X_seq:\")\n",
        "predicted_categories"
      ]
    },
    {
      "cell_type": "code",
      "execution_count": 201,
      "metadata": {
        "colab": {
          "base_uri": "https://localhost:8080/"
        },
        "id": "eBFL66Ud5woC",
        "outputId": "a8f17b9d-3160-4ac8-dadb-100594845fcb"
      },
      "outputs": [
        {
          "name": "stdout",
          "output_type": "stream",
          "text": [
            "🔢 혼동 행렬 (Confusion Matrix):\n",
            "          class  exercise  sleep  study\n",
            "class         0         0      0      0\n",
            "exercise      0         0      0      0\n",
            "sleep         0         0     76      0\n",
            "study         0         0      0      0\n"
          ]
        }
      ],
      "source": [
        "from sklearn.metrics import classification_report, confusion_matrix\n",
        "import numpy as np\n",
        "import pandas as pd\n",
        "\n",
        "true_classes = np.argmax(y_t, axis=1)\n",
        "\n",
        "# 디코딩\n",
        "predicted_labels = encoder.inverse_transform(predicted_classes)\n",
        "true_labels = encoder.inverse_transform(true_classes)\n",
        "\n",
        "# 혼동 행렬\n",
        "conf_mat = confusion_matrix(true_labels, predicted_labels, labels=encoder.classes_)\n",
        "\n",
        "# Pandas DataFrame으로 보기 좋게 출력\n",
        "conf_df = pd.DataFrame(conf_mat, index=encoder.classes_, columns=encoder.classes_)\n",
        "\n",
        "print(\"🔢 혼동 행렬 (Confusion Matrix):\")\n",
        "print(conf_df)"
      ]
    },
    {
      "cell_type": "code",
      "execution_count": 202,
      "metadata": {
        "colab": {
          "base_uri": "https://localhost:8080/"
        },
        "id": "PzogqEDK6Hz3",
        "outputId": "5d9e3979-d2a7-4b42-8821-edafece6f8c5"
      },
      "outputs": [
        {
          "name": "stdout",
          "output_type": "stream",
          "text": [
            "       Mean_Probability\n",
            "Class                  \n",
            "0              0.000029\n",
            "1              0.000005\n",
            "2              0.999947\n",
            "3              0.000019\n"
          ]
        }
      ],
      "source": [
        "num_classes = predictions.shape[1]\n",
        "\n",
        "# 각 클래스별 평균 확률 계산\n",
        "class_prob_means = {\n",
        "    cls: np.mean(predictions[:, cls]) for cls in range(num_classes)\n",
        "}\n",
        "\n",
        "# 보기 좋게 출력\n",
        "df = pd.DataFrame.from_dict(class_prob_means, orient='index', columns=['Mean_Probability'])\n",
        "df.index.name = 'Class'\n",
        "df = df.sort_index()\n",
        "print(df)"
      ]
    },
    {
      "cell_type": "code",
      "execution_count": null,
      "metadata": {},
      "outputs": [],
      "source": []
    }
  ],
  "metadata": {
    "colab": {
      "provenance": []
    },
    "kernelspec": {
      "display_name": "Python 3",
      "name": "python3"
    },
    "language_info": {
      "codemirror_mode": {
        "name": "ipython",
        "version": 3
      },
      "file_extension": ".py",
      "mimetype": "text/x-python",
      "name": "python",
      "nbconvert_exporter": "python",
      "pygments_lexer": "ipython3",
      "version": "3.9.6"
    }
  },
  "nbformat": 4,
  "nbformat_minor": 0
}
