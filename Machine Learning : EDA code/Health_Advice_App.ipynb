{
  "cells": [
    {
      "cell_type": "markdown",
      "metadata": {
        "id": "wHMJ2eYotCWW"
      },
      "source": [
        "### Optimization Data Additional Train"
      ]
    },
    {
      "cell_type": "code",
      "execution_count": 36,
      "metadata": {
        "id": "TcHDyyNIeVLz"
      },
      "outputs": [],
      "source": [
        "import pandas as pd\n",
        "\n",
        "df_original = pd.read_csv('final-6.csv')\n",
        "df1 = pd.read_csv('sensor_data_Exercise_expanded.csv', index_col=False)\n",
        "df2 = pd.read_csv('sensor_data_Sleep.csv', index_col=False)\n",
        "df3 = pd.read_csv('sensor_data_study.csv', index_col=False)\n",
        "df4 = pd.read_csv('sensor_data_study2.csv', index_col=False)"
      ]
    },
    {
      "cell_type": "code",
      "execution_count": 38,
      "metadata": {
        "id": "eJvfrELUV4Cd"
      },
      "outputs": [],
      "source": [
        "df1 = df1.drop(columns=['sec','week','idx1','idx2','idx3','idx4','idx5','idx6','idx7','idx8','idx9','idx0'])\n",
        "df2 = df2.drop(columns=['sec','week','idx1','idx2','idx3','idx4','idx5','idx6','idx7','idx8','idx9','idx0'])\n",
        "df3 = df3.drop(columns=['sec','week','idx1','idx2','idx3','idx4','idx5','idx6','idx7','idx8','idx9','idx0'])\n",
        "df4 = df4.drop(columns=['sec','week','idx1','idx2','idx3','idx4','idx5','idx6','idx7','idx8','idx9','idx0'])"
      ]
    },
    {
      "cell_type": "code",
      "execution_count": 47,
      "metadata": {
        "id": "8cq8Q0DOlXQE"
      },
      "outputs": [],
      "source": [
        "df_final = pd.concat([df_original, df1, df2, df3, df4], axis=0)"
      ]
    },
    {
      "cell_type": "code",
      "execution_count": 50,
      "metadata": {
        "id": "ehNV6OhBOxMn"
      },
      "outputs": [],
      "source": [
        "df_final = df_final[df_final['peak']!=0]"
      ]
    },
    {
      "cell_type": "code",
      "execution_count": 52,
      "metadata": {
        "id": "aLgzDUcil82V"
      },
      "outputs": [],
      "source": [
        "sleep_df = df_final[df_final['category'] == 'sleep'].sample(frac=1/3, random_state=42)\n",
        "not_else_df = df_final[df_final['category'] != 'else']\n",
        "df_final = pd.concat([not_else_df[not_else_df['category'] != 'sleep'], sleep_df], ignore_index=True)"
      ]
    },
    {
      "cell_type": "code",
      "execution_count": 104,
      "metadata": {
        "colab": {
          "base_uri": "https://localhost:8080/",
          "height": 238
        },
        "id": "25qq4XUJmIGj",
        "outputId": "ffa7df0d-7a47-4bc6-e843-c01a02886be2"
      },
      "outputs": [
        {
          "data": {
            "text/html": [
              "<div>\n",
              "<style scoped>\n",
              "    .dataframe tbody tr th:only-of-type {\n",
              "        vertical-align: middle;\n",
              "    }\n",
              "\n",
              "    .dataframe tbody tr th {\n",
              "        vertical-align: top;\n",
              "    }\n",
              "\n",
              "    .dataframe thead th {\n",
              "        text-align: right;\n",
              "    }\n",
              "</style>\n",
              "<table border=\"1\" class=\"dataframe\">\n",
              "  <thead>\n",
              "    <tr style=\"text-align: right;\">\n",
              "      <th></th>\n",
              "      <th>count</th>\n",
              "    </tr>\n",
              "    <tr>\n",
              "      <th>category</th>\n",
              "      <th></th>\n",
              "    </tr>\n",
              "  </thead>\n",
              "  <tbody>\n",
              "    <tr>\n",
              "      <th>sleep</th>\n",
              "      <td>3646</td>\n",
              "    </tr>\n",
              "    <tr>\n",
              "      <th>study</th>\n",
              "      <td>2643</td>\n",
              "    </tr>\n",
              "    <tr>\n",
              "      <th>class</th>\n",
              "      <td>2167</td>\n",
              "    </tr>\n",
              "    <tr>\n",
              "      <th>exercise</th>\n",
              "      <td>870</td>\n",
              "    </tr>\n",
              "  </tbody>\n",
              "</table>\n",
              "</div><br><label><b>dtype:</b> int64</label>"
            ],
            "text/plain": [
              "category\n",
              "sleep       3646\n",
              "study       2643\n",
              "class       2167\n",
              "exercise     870\n",
              "Name: count, dtype: int64"
            ]
          },
          "execution_count": 104,
          "metadata": {},
          "output_type": "execute_result"
        }
      ],
      "source": [
        "df_final['category'].value_counts()"
      ]
    },
    {
      "cell_type": "markdown",
      "metadata": {
        "id": "uD7mAL0OQ69N"
      },
      "source": [
        "### Start LSTM model"
      ]
    },
    {
      "cell_type": "code",
      "execution_count": 54,
      "metadata": {
        "id": "Qzgn8WwCQ8vB"
      },
      "outputs": [],
      "source": [
        "# 1️⃣ LSTM 모델 구성 코드\n",
        "import pandas as pd\n",
        "import numpy as np\n",
        "from sklearn.model_selection import train_test_split\n",
        "from sklearn.preprocessing import LabelEncoder, StandardScaler\n",
        "from tensorflow.keras.models import Sequential\n",
        "from tensorflow.keras.layers import LSTM, Dense\n",
        "from tensorflow.keras.utils import to_categorical"
      ]
    },
    {
      "cell_type": "code",
      "execution_count": 105,
      "metadata": {
        "id": "SWBOmaopTy9S"
      },
      "outputs": [],
      "source": [
        "# Load and preprocess data\n",
        "#df = pd.read_csv('final.csv')\n",
        "df = df_final\n",
        "\n",
        "encoder = LabelEncoder()\n",
        "Y = encoder.fit_transform(df['category'])\n",
        "X = df.drop(columns=['category'])"
      ]
    },
    {
      "cell_type": "code",
      "execution_count": 106,
      "metadata": {
        "colab": {
          "base_uri": "https://localhost:8080/"
        },
        "id": "8dVn1nqR23nb",
        "outputId": "c835849a-c42a-41af-a285-7f5471b96778"
      },
      "outputs": [
        {
          "name": "stdout",
          "output_type": "stream",
          "text": [
            "['class' 'exercise' 'sleep' 'study']\n"
          ]
        }
      ],
      "source": [
        "print(encoder.classes_)"
      ]
    },
    {
      "cell_type": "code",
      "execution_count": 107,
      "metadata": {
        "colab": {
          "base_uri": "https://localhost:8080/"
        },
        "id": "xWLtpzjeVtii",
        "outputId": "3d6884b1-ab15-4a4d-d388-f1775860ed77"
      },
      "outputs": [
        {
          "data": {
            "text/plain": [
              "9326"
            ]
          },
          "execution_count": 107,
          "metadata": {},
          "output_type": "execute_result"
        }
      ],
      "source": [
        "len(X)"
      ]
    },
    {
      "cell_type": "code",
      "execution_count": 108,
      "metadata": {
        "id": "ay2y28EKUUwK"
      },
      "outputs": [],
      "source": [
        "# Scale features\n",
        "scaler = StandardScaler()\n",
        "X = scaler.fit_transform(X)"
      ]
    },
    {
      "cell_type": "code",
      "execution_count": 109,
      "metadata": {
        "colab": {
          "base_uri": "https://localhost:8080/"
        },
        "id": "RfIjqVDjdunm",
        "outputId": "b1ca0962-92e6-4a05-bd91-f87de5aa6529"
      },
      "outputs": [
        {
          "name": "stdout",
          "output_type": "stream",
          "text": [
            "[ 3.55711037e+01  1.29210991e+02  3.93609050e+02  1.54503800e-02\n",
            "  6.40686302e-01  8.37711789e+00 -1.11793005e-02  4.03758740e-03\n",
            "  6.46861238e-03  3.47847913e+01  5.39033026e+02  2.85467458e+04\n",
            "  1.50768445e+04  6.95140192e+03  3.08457078e+03  2.06106495e+03\n",
            "  1.50435422e+03  1.11571127e+03  8.78133975e+02  7.69793023e+02\n",
            "  9.11730350e+02  4.27674244e+01 -5.77403174e+02 -4.27532704e+01\n",
            " -4.49723354e+01 -4.64459575e+01 -5.10219816e+01 -6.09737294e+01\n",
            " -6.39369505e+01 -6.52191722e+01 -6.65794553e+01 -6.82439417e+01\n",
            " -6.94638645e+01  2.32361141e-01]\n",
            "[2.70220400e-03 2.77953032e-02 5.58068807e+02 2.46795624e+00\n",
            " 2.46804635e+00 4.32149168e+00 4.70540796e-01 4.35744194e-01\n",
            " 5.51583866e-01 1.21240454e+01 1.47703994e+03 9.34973726e+04\n",
            " 4.80093097e+04 2.26681368e+04 9.44236065e+03 7.07635565e+03\n",
            " 5.01721435e+03 2.96301612e+03 2.23216576e+03 1.81452642e+03\n",
            " 1.90956045e+03 2.81920981e+01 8.12881152e+01 1.16196111e+01\n",
            " 1.07045643e+01 1.01585979e+01 7.50565227e+00 1.12457992e+01\n",
            " 1.31429190e+01 1.40589657e+01 1.49024515e+01 1.53822272e+01\n",
            " 1.58257430e+01 4.22338065e-01]\n",
            "34\n",
            "34\n"
          ]
        }
      ],
      "source": [
        "print(scaler.mean_)\n",
        "print(scaler.scale_)\n",
        "\n",
        "np.save(\"scaler_mean.npy\", scaler.mean_)\n",
        "np.save(\"scaler_std.npy\", scaler.scale_)\n",
        "\n",
        "print(len(scaler.mean_))\n",
        "print(len(scaler.scale_))"
      ]
    },
    {
      "cell_type": "code",
      "execution_count": 110,
      "metadata": {
        "id": "1HpogU5yULzf"
      },
      "outputs": [],
      "source": [
        "# Reshape to (samples, timesteps=12, features)\n",
        "X_seq = []\n",
        "y_seq = []\n",
        "seq_length = 12\n",
        "\n",
        "previous_label = Y[0]\n",
        "\n",
        "i = 0\n",
        "while i <= len(X) - seq_length:\n",
        "    current_label = Y[i + seq_length - 1]\n",
        "\n",
        "    if current_label != previous_label:\n",
        "        previous_label = Y[i + 1]\n",
        "        i += 1\n",
        "    else:\n",
        "        X_seq.append(X[i:i+seq_length])\n",
        "        y_seq.append(current_label)\n",
        "        previous_label = current_label\n",
        "        i += seq_length\n",
        "\n",
        "X_seq = np.array(X_seq)\n",
        "y_seq = to_categorical(y_seq)"
      ]
    },
    {
      "cell_type": "code",
      "execution_count": 111,
      "metadata": {
        "colab": {
          "base_uri": "https://localhost:8080/"
        },
        "id": "nr0CURDkW1Je",
        "outputId": "a139b0f8-83af-46fe-afb2-c4de8071e8d2"
      },
      "outputs": [
        {
          "data": {
            "text/plain": [
              "(774, 12, 34)"
            ]
          },
          "execution_count": 111,
          "metadata": {},
          "output_type": "execute_result"
        }
      ],
      "source": [
        "X_seq.shape"
      ]
    },
    {
      "cell_type": "code",
      "execution_count": 112,
      "metadata": {
        "colab": {
          "base_uri": "https://localhost:8080/"
        },
        "id": "ldicGRKmW6RA",
        "outputId": "6753464b-4571-4480-b208-a4cb9910f27a"
      },
      "outputs": [
        {
          "data": {
            "text/plain": [
              "(774, 4)"
            ]
          },
          "execution_count": 112,
          "metadata": {},
          "output_type": "execute_result"
        }
      ],
      "source": [
        "y_seq.shape"
      ]
    },
    {
      "cell_type": "code",
      "execution_count": 113,
      "metadata": {
        "id": "uW8RqmZlyejT"
      },
      "outputs": [],
      "source": [
        "y_labels = np.argmax(y_seq, axis=1)\n",
        "\n",
        "# 빈 리스트로 초기화\n",
        "X_train_list, X_test_list = [], []\n",
        "y_train_list, y_test_list = [], []\n",
        "\n",
        "unique_labels = np.unique(y_labels)\n",
        "\n",
        "# 각 활동별로 마지막 10% 데이터만 뽑아서 테스트셋으로 만들기.\n",
        "for label in unique_labels:\n",
        "    idx = np.where(y_labels == label)[0]\n",
        "    count = len(idx)\n",
        "    split_idx = int(count * 0.9)\n",
        "\n",
        "    train_idx = idx[:split_idx]\n",
        "    test_idx = idx[split_idx:]\n",
        "\n",
        "    X_train_list.append(X_seq[train_idx])\n",
        "    y_train_list.append(y_seq[train_idx])\n",
        "\n",
        "    X_test_list.append(X_seq[test_idx])\n",
        "    y_test_list.append(y_seq[test_idx])\n",
        "\n",
        "# 리스트를 다시 하나의 배열로 합치기\n",
        "X_train = np.concatenate(X_train_list)\n",
        "y_train = np.concatenate(y_train_list)\n",
        "X_test = np.concatenate(X_test_list)\n",
        "y_test = np.concatenate(y_test_list)"
      ]
    },
    {
      "cell_type": "code",
      "execution_count": 114,
      "metadata": {
        "colab": {
          "base_uri": "https://localhost:8080/"
        },
        "id": "4DgSG9ZzWglu",
        "outputId": "99a8c828-8bfb-4b14-d44c-58f2439f6cf4"
      },
      "outputs": [
        {
          "name": "stderr",
          "output_type": "stream",
          "text": [
            "/usr/local/lib/python3.11/dist-packages/keras/src/layers/rnn/rnn.py:200: UserWarning: Do not pass an `input_shape`/`input_dim` argument to a layer. When using Sequential models, prefer using an `Input(shape)` object as the first layer in the model instead.\n",
            "  super().__init__(**kwargs)\n"
          ]
        }
      ],
      "source": [
        "# Build model\n",
        "model = Sequential()\n",
        "model.add(LSTM(64, input_shape=(seq_length, X_seq.shape[2])))\n",
        "model.add(Dense(32, activation='relu'))\n",
        "model.add(Dense(y_seq.shape[1], activation='softmax'))\n",
        "\n",
        "model.compile(loss='categorical_crossentropy', optimizer='adam', metrics=['accuracy'])"
      ]
    },
    {
      "cell_type": "code",
      "execution_count": 115,
      "metadata": {
        "colab": {
          "base_uri": "https://localhost:8080/"
        },
        "id": "PKkt0TvpYvC-",
        "outputId": "51707160-4458-4f2d-e19a-d9c619d65dac"
      },
      "outputs": [
        {
          "name": "stdout",
          "output_type": "stream",
          "text": [
            "Epoch 1/20\n",
            "\u001b[1m22/22\u001b[0m \u001b[32m━━━━━━━━━━━━━━━━━━━━\u001b[0m\u001b[37m\u001b[0m \u001b[1m4s\u001b[0m 38ms/step - accuracy: 0.7354 - loss: 0.9342 - val_accuracy: 0.9747 - val_loss: 0.1802\n",
            "Epoch 2/20\n",
            "\u001b[1m22/22\u001b[0m \u001b[32m━━━━━━━━━━━━━━━━━━━━\u001b[0m\u001b[37m\u001b[0m \u001b[1m1s\u001b[0m 13ms/step - accuracy: 0.9914 - loss: 0.1427 - val_accuracy: 1.0000 - val_loss: 0.0374\n",
            "Epoch 3/20\n",
            "\u001b[1m22/22\u001b[0m \u001b[32m━━━━━━━━━━━━━━━━━━━━\u001b[0m\u001b[37m\u001b[0m \u001b[1m0s\u001b[0m 13ms/step - accuracy: 0.9970 - loss: 0.0340 - val_accuracy: 1.0000 - val_loss: 0.0120\n",
            "Epoch 4/20\n",
            "\u001b[1m22/22\u001b[0m \u001b[32m━━━━━━━━━━━━━━━━━━━━\u001b[0m\u001b[37m\u001b[0m \u001b[1m0s\u001b[0m 20ms/step - accuracy: 0.9993 - loss: 0.0120 - val_accuracy: 1.0000 - val_loss: 0.0062\n",
            "Epoch 5/20\n",
            "\u001b[1m22/22\u001b[0m \u001b[32m━━━━━━━━━━━━━━━━━━━━\u001b[0m\u001b[37m\u001b[0m \u001b[1m0s\u001b[0m 19ms/step - accuracy: 1.0000 - loss: 0.0071 - val_accuracy: 1.0000 - val_loss: 0.0040\n",
            "Epoch 6/20\n",
            "\u001b[1m22/22\u001b[0m \u001b[32m━━━━━━━━━━━━━━━━━━━━\u001b[0m\u001b[37m\u001b[0m \u001b[1m1s\u001b[0m 20ms/step - accuracy: 1.0000 - loss: 0.0038 - val_accuracy: 1.0000 - val_loss: 0.0028\n",
            "Epoch 7/20\n",
            "\u001b[1m22/22\u001b[0m \u001b[32m━━━━━━━━━━━━━━━━━━━━\u001b[0m\u001b[37m\u001b[0m \u001b[1m1s\u001b[0m 25ms/step - accuracy: 1.0000 - loss: 0.0028 - val_accuracy: 1.0000 - val_loss: 0.0021\n",
            "Epoch 8/20\n",
            "\u001b[1m22/22\u001b[0m \u001b[32m━━━━━━━━━━━━━━━━━━━━\u001b[0m\u001b[37m\u001b[0m \u001b[1m0s\u001b[0m 18ms/step - accuracy: 1.0000 - loss: 0.0023 - val_accuracy: 1.0000 - val_loss: 0.0017\n",
            "Epoch 9/20\n",
            "\u001b[1m22/22\u001b[0m \u001b[32m━━━━━━━━━━━━━━━━━━━━\u001b[0m\u001b[37m\u001b[0m \u001b[1m1s\u001b[0m 14ms/step - accuracy: 1.0000 - loss: 0.0018 - val_accuracy: 1.0000 - val_loss: 0.0013\n",
            "Epoch 10/20\n",
            "\u001b[1m22/22\u001b[0m \u001b[32m━━━━━━━━━━━━━━━━━━━━\u001b[0m\u001b[37m\u001b[0m \u001b[1m0s\u001b[0m 15ms/step - accuracy: 1.0000 - loss: 0.0016 - val_accuracy: 1.0000 - val_loss: 0.0011\n",
            "Epoch 11/20\n",
            "\u001b[1m22/22\u001b[0m \u001b[32m━━━━━━━━━━━━━━━━━━━━\u001b[0m\u001b[37m\u001b[0m \u001b[1m1s\u001b[0m 17ms/step - accuracy: 1.0000 - loss: 0.0012 - val_accuracy: 1.0000 - val_loss: 9.4403e-04\n",
            "Epoch 12/20\n",
            "\u001b[1m22/22\u001b[0m \u001b[32m━━━━━━━━━━━━━━━━━━━━\u001b[0m\u001b[37m\u001b[0m \u001b[1m1s\u001b[0m 13ms/step - accuracy: 1.0000 - loss: 0.0011 - val_accuracy: 1.0000 - val_loss: 8.0832e-04\n",
            "Epoch 13/20\n",
            "\u001b[1m22/22\u001b[0m \u001b[32m━━━━━━━━━━━━━━━━━━━━\u001b[0m\u001b[37m\u001b[0m \u001b[1m0s\u001b[0m 12ms/step - accuracy: 1.0000 - loss: 8.6443e-04 - val_accuracy: 1.0000 - val_loss: 7.0397e-04\n",
            "Epoch 14/20\n",
            "\u001b[1m22/22\u001b[0m \u001b[32m━━━━━━━━━━━━━━━━━━━━\u001b[0m\u001b[37m\u001b[0m \u001b[1m0s\u001b[0m 13ms/step - accuracy: 1.0000 - loss: 7.4766e-04 - val_accuracy: 1.0000 - val_loss: 6.1687e-04\n",
            "Epoch 15/20\n",
            "\u001b[1m22/22\u001b[0m \u001b[32m━━━━━━━━━━━━━━━━━━━━\u001b[0m\u001b[37m\u001b[0m \u001b[1m0s\u001b[0m 12ms/step - accuracy: 1.0000 - loss: 6.6363e-04 - val_accuracy: 1.0000 - val_loss: 5.4504e-04\n",
            "Epoch 16/20\n",
            "\u001b[1m22/22\u001b[0m \u001b[32m━━━━━━━━━━━━━━━━━━━━\u001b[0m\u001b[37m\u001b[0m \u001b[1m0s\u001b[0m 12ms/step - accuracy: 1.0000 - loss: 5.5022e-04 - val_accuracy: 1.0000 - val_loss: 4.8668e-04\n",
            "Epoch 17/20\n",
            "\u001b[1m22/22\u001b[0m \u001b[32m━━━━━━━━━━━━━━━━━━━━\u001b[0m\u001b[37m\u001b[0m \u001b[1m0s\u001b[0m 13ms/step - accuracy: 1.0000 - loss: 5.0289e-04 - val_accuracy: 1.0000 - val_loss: 4.3633e-04\n",
            "Epoch 18/20\n",
            "\u001b[1m22/22\u001b[0m \u001b[32m━━━━━━━━━━━━━━━━━━━━\u001b[0m\u001b[37m\u001b[0m \u001b[1m0s\u001b[0m 14ms/step - accuracy: 1.0000 - loss: 4.5345e-04 - val_accuracy: 1.0000 - val_loss: 3.9374e-04\n",
            "Epoch 19/20\n",
            "\u001b[1m22/22\u001b[0m \u001b[32m━━━━━━━━━━━━━━━━━━━━\u001b[0m\u001b[37m\u001b[0m \u001b[1m0s\u001b[0m 14ms/step - accuracy: 1.0000 - loss: 4.2710e-04 - val_accuracy: 1.0000 - val_loss: 3.5834e-04\n",
            "Epoch 20/20\n",
            "\u001b[1m22/22\u001b[0m \u001b[32m━━━━━━━━━━━━━━━━━━━━\u001b[0m\u001b[37m\u001b[0m \u001b[1m0s\u001b[0m 15ms/step - accuracy: 1.0000 - loss: 3.8979e-04 - val_accuracy: 1.0000 - val_loss: 3.2677e-04\n"
          ]
        },
        {
          "name": "stderr",
          "output_type": "stream",
          "text": [
            "WARNING:absl:You are saving your model as an HDF5 file via `model.save()` or `keras.saving.save_model(model)`. This file format is considered legacy. We recommend using instead the native Keras format, e.g. `model.save('my_model.keras')` or `keras.saving.save_model(model, 'my_model.keras')`. \n"
          ]
        }
      ],
      "source": [
        "model.fit(X_train, y_train, epochs=20, batch_size=32, validation_data=(X_test, y_test))\n",
        "model.save(\"activity_model.h5\")"
      ]
    },
    {
      "cell_type": "markdown",
      "metadata": {
        "id": "17S8c7MPsxtf"
      },
      "source": [
        "### Tensorflow Lite Convert"
      ]
    },
    {
      "cell_type": "code",
      "execution_count": 116,
      "metadata": {
        "colab": {
          "base_uri": "https://localhost:8080/"
        },
        "id": "Q7yPxxyaZe6S",
        "outputId": "75e567b5-480e-4e75-e7df-4eca688537ed"
      },
      "outputs": [
        {
          "name": "stdout",
          "output_type": "stream",
          "text": [
            "Saved artifact at '/tmp/tmps7344x9b'. The following endpoints are available:\n",
            "\n",
            "* Endpoint 'serve'\n",
            "  args_0 (POSITIONAL_ONLY): TensorSpec(shape=(None, 12, 34), dtype=tf.float32, name='keras_tensor_14')\n",
            "Output Type:\n",
            "  TensorSpec(shape=(None, 4), dtype=tf.float32, name=None)\n",
            "Captures:\n",
            "  137451219048336: TensorSpec(shape=(), dtype=tf.resource, name=None)\n",
            "  137451219055632: TensorSpec(shape=(), dtype=tf.resource, name=None)\n",
            "  137451219055440: TensorSpec(shape=(), dtype=tf.resource, name=None)\n",
            "  137451219049488: TensorSpec(shape=(), dtype=tf.resource, name=None)\n",
            "  137451219054864: TensorSpec(shape=(), dtype=tf.resource, name=None)\n",
            "  137451219047568: TensorSpec(shape=(), dtype=tf.resource, name=None)\n",
            "  137451219055248: TensorSpec(shape=(), dtype=tf.resource, name=None)\n"
          ]
        }
      ],
      "source": [
        "import tensorflow as tf\n",
        "\n",
        "converter = tf.lite.TFLiteConverter.from_keras_model(model)\n",
        "\n",
        "converter.experimental_enable_resource_variables = True\n",
        "\n",
        "converter._experimental_lower_tensor_list_ops = False\n",
        "\n",
        "converter.target_spec.supported_ops = [\n",
        "    tf.lite.OpsSet.TFLITE_BUILTINS,     # 기본 TFLite 연산\n",
        "    tf.lite.OpsSet.SELECT_TF_OPS        # TF 연산 일부 직접 허용\n",
        "]\n",
        "\n",
        "tflite_model = converter.convert()\n",
        "\n",
        "with open(\"activity_model.tflite\", \"wb\") as f:\n",
        "    f.write(tflite_model)\n"
      ]
    },
    {
      "cell_type": "markdown",
      "metadata": {
        "id": "lAyTFHqgs-4d"
      },
      "source": [
        "### Original Model Inference"
      ]
    },
    {
      "cell_type": "markdown",
      "metadata": {
        "id": "RYzCbSnN6_Rx"
      },
      "source": [
        "새로운 데이터셋으로 테스트하는 경우"
      ]
    },
    {
      "cell_type": "code",
      "execution_count": null,
      "metadata": {
        "id": "3seAKUZOG8KG"
      },
      "outputs": [],
      "source": [
        "df_test = pd.read_csv('sensor_data_test_study2.csv')"
      ]
    },
    {
      "cell_type": "code",
      "execution_count": null,
      "metadata": {
        "id": "hfkiD-t-YwCi"
      },
      "outputs": [],
      "source": [
        "X = X.drop(columns=['sec','week','idx1','idx2','idx3','idx4','idx5','idx6','idx7','idx8','idx9','idx0'])"
      ]
    },
    {
      "cell_type": "code",
      "execution_count": null,
      "metadata": {
        "id": "GMhPWWgeH6vA"
      },
      "outputs": [],
      "source": [
        "X = scaler.transform(X)"
      ]
    },
    {
      "cell_type": "code",
      "execution_count": null,
      "metadata": {
        "id": "fF03_irFITKf"
      },
      "outputs": [],
      "source": [
        "X_seq = []\n",
        "seq_length = 12\n",
        "\n",
        "for i in range(0, len(X) - seq_length, seq_length):\n",
        "    X_seq.append(X[i:i+seq_length])"
      ]
    },
    {
      "cell_type": "code",
      "execution_count": null,
      "metadata": {
        "colab": {
          "base_uri": "https://localhost:8080/"
        },
        "id": "nsbpFU8sJqKk",
        "outputId": "2f30a334-4a5a-4983-94b7-72cbe3d31284"
      },
      "outputs": [
        {
          "data": {
            "text/plain": [
              "(3, 12, 34)"
            ]
          },
          "execution_count": 414,
          "metadata": {},
          "output_type": "execute_result"
        }
      ],
      "source": [
        "X_seq = np.array(X_seq)\n",
        "X_seq.shape"
      ]
    },
    {
      "cell_type": "markdown",
      "metadata": {
        "id": "R7EL8_Tl6-xD"
      },
      "source": [
        "기존 수집된 데이터의 일부를 사용하는 경우 (학습에 사용 안한)"
      ]
    },
    {
      "cell_type": "code",
      "execution_count": 117,
      "metadata": {
        "colab": {
          "base_uri": "https://localhost:8080/"
        },
        "id": "H60uswceto-H",
        "outputId": "7483cf18-2ca3-4d78-9eda-108384f556c0"
      },
      "outputs": [
        {
          "data": {
            "text/plain": [
              "(79, 12, 34)"
            ]
          },
          "execution_count": 117,
          "metadata": {},
          "output_type": "execute_result"
        }
      ],
      "source": [
        "X_test.shape"
      ]
    },
    {
      "cell_type": "code",
      "execution_count": 118,
      "metadata": {
        "colab": {
          "base_uri": "https://localhost:8080/"
        },
        "id": "aG-l6wqQIZUq",
        "outputId": "52c21ed4-e279-4f2a-b0e0-0f723d2a3299"
      },
      "outputs": [
        {
          "name": "stdout",
          "output_type": "stream",
          "text": [
            "\u001b[1m3/3\u001b[0m \u001b[32m━━━━━━━━━━━━━━━━━━━━\u001b[0m\u001b[37m\u001b[0m \u001b[1m0s\u001b[0m 123ms/step\n",
            "[[9.99821186e-01 5.06584656e-05 1.04908177e-05 1.17719996e-04]\n",
            " [9.99838591e-01 4.85149831e-05 9.37551522e-06 1.03628605e-04]\n",
            " [9.99813557e-01 5.49782308e-05 1.13335582e-05 1.20274897e-04]\n",
            " [9.99804735e-01 5.39891953e-05 1.15343082e-05 1.29775828e-04]\n",
            " [9.99800205e-01 5.32328377e-05 1.18339149e-05 1.34781934e-04]\n",
            " [9.99819040e-01 5.12180741e-05 1.06633925e-05 1.19079225e-04]\n",
            " [9.99805927e-01 5.30048783e-05 1.15480798e-05 1.29546606e-04]\n",
            " [9.99805212e-01 5.24314491e-05 1.15702514e-05 1.30862856e-04]\n",
            " [9.99795675e-01 5.30943871e-05 1.18462813e-05 1.39543845e-04]\n",
            " [9.99797821e-01 5.30735451e-05 1.18815396e-05 1.37280120e-04]\n",
            " [9.99802351e-01 5.31372934e-05 1.15297280e-05 1.33002890e-04]\n",
            " [9.99802351e-01 5.43162787e-05 1.16609090e-05 1.31541150e-04]\n",
            " [9.99794722e-01 6.03274530e-05 1.30400840e-05 1.32035711e-04]\n",
            " [9.99806166e-01 5.77519240e-05 1.20763925e-05 1.24082813e-04]\n",
            " [9.99793291e-01 5.63222602e-05 1.25606175e-05 1.37792100e-04]\n",
            " [9.99809027e-01 5.67886091e-05 1.16365136e-05 1.22697442e-04]\n",
            " [9.99821663e-01 5.63488938e-05 1.09301091e-05 1.10931265e-04]\n",
            " [9.99739766e-01 6.63461105e-05 1.63788336e-05 1.77619149e-04]\n",
            " [6.84469938e-04 9.98066664e-01 3.96105635e-04 8.52699333e-04]\n",
            " [4.86537756e-04 9.99108434e-01 1.44839956e-04 2.60067027e-04]\n",
            " [5.69260737e-04 9.98725116e-01 2.37352520e-04 4.68228071e-04]\n",
            " [3.05864029e-04 9.99215543e-01 1.34797447e-04 3.43803957e-04]\n",
            " [3.05467460e-04 9.98978853e-01 2.18711197e-04 4.97004774e-04]\n",
            " [4.49285493e-04 9.98941362e-01 1.64010111e-04 4.45372483e-04]\n",
            " [3.86807544e-04 9.98997450e-01 1.73256441e-04 4.42460849e-04]\n",
            " [4.70850733e-04 9.98469889e-01 2.92754907e-04 7.66381330e-04]\n",
            " [1.41213983e-04 3.14229437e-05 9.99713063e-01 1.14235067e-04]\n",
            " [1.41730517e-04 3.18837556e-05 9.99712706e-01 1.13688460e-04]\n",
            " [1.46211605e-04 3.31904484e-05 9.99703646e-01 1.17003539e-04]\n",
            " [1.43832440e-04 3.21652988e-05 9.99707460e-01 1.16586409e-04]\n",
            " [1.42351040e-04 3.21908738e-05 9.99711633e-01 1.13842507e-04]\n",
            " [1.38675983e-04 3.09287534e-05 9.99719620e-01 1.10802801e-04]\n",
            " [1.43959944e-04 3.27724447e-05 9.99707699e-01 1.15554336e-04]\n",
            " [1.42828052e-04 3.16791011e-05 9.99710441e-01 1.15160037e-04]\n",
            " [1.42974925e-04 3.22342967e-05 9.99710202e-01 1.14602677e-04]\n",
            " [1.45794460e-04 3.29943396e-05 9.99704599e-01 1.16665709e-04]\n",
            " [1.44907885e-04 3.26917179e-05 9.99706626e-01 1.15779243e-04]\n",
            " [1.41701166e-04 3.19332030e-05 9.99712586e-01 1.13769580e-04]\n",
            " [1.44800608e-04 3.21668522e-05 9.99705195e-01 1.17896205e-04]\n",
            " [1.42649806e-04 3.17137601e-05 9.99710083e-01 1.15614908e-04]\n",
            " [1.47587969e-04 3.33770768e-05 9.99701381e-01 1.17735304e-04]\n",
            " [1.57196380e-04 3.59356782e-05 9.99679565e-01 1.27258056e-04]\n",
            " [1.48526175e-04 3.31952651e-05 9.99698043e-01 1.20268458e-04]\n",
            " [1.52258683e-04 3.47487912e-05 9.99689817e-01 1.23255217e-04]\n",
            " [1.48704756e-04 3.33684402e-05 9.99699116e-01 1.18785145e-04]\n",
            " [1.43940139e-04 3.23582062e-05 9.99709368e-01 1.14446186e-04]\n",
            " [1.56966955e-04 3.48237591e-05 9.99684811e-01 1.23412334e-04]\n",
            " [1.43863639e-04 3.26554582e-05 9.99707937e-01 1.15603631e-04]\n",
            " [1.47099461e-04 3.36979210e-05 9.99698997e-01 1.20270866e-04]\n",
            " [1.48342035e-04 3.35697223e-05 9.99699235e-01 1.18947377e-04]\n",
            " [1.45234750e-04 3.26865302e-05 9.99704361e-01 1.17694566e-04]\n",
            " [1.45409678e-04 3.27635607e-05 9.99705553e-01 1.16338510e-04]\n",
            " [1.42487654e-04 3.14404533e-05 9.99712348e-01 1.13858114e-04]\n",
            " [1.42760939e-04 3.22604828e-05 9.99711633e-01 1.13358132e-04]\n",
            " [1.42323683e-04 3.08272465e-05 9.99714851e-01 1.11971502e-04]\n",
            " [1.46487335e-04 3.28521201e-05 9.99702215e-01 1.18435986e-04]\n",
            " [1.42914228e-04 3.23014356e-05 9.99710917e-01 1.13972783e-04]\n",
            " [6.59559009e-05 4.05949759e-05 6.16332254e-05 9.99831915e-01]\n",
            " [5.86215428e-05 4.14653987e-05 5.51293269e-05 9.99844790e-01]\n",
            " [5.71987221e-05 4.03498962e-05 5.30656980e-05 9.99849319e-01]\n",
            " [5.28043893e-05 3.64793013e-05 5.21441725e-05 9.99858618e-01]\n",
            " [5.57826825e-05 3.64040097e-05 5.54974176e-05 9.99852419e-01]\n",
            " [7.12747569e-05 4.53596404e-05 5.68776231e-05 9.99826431e-01]\n",
            " [5.55042861e-05 3.79566191e-05 5.06739998e-05 9.99855995e-01]\n",
            " [5.06395081e-05 3.72666946e-05 4.95731256e-05 9.99862671e-01]\n",
            " [5.34275678e-05 3.88856206e-05 5.15463835e-05 9.99856234e-01]\n",
            " [5.04171476e-05 3.56057535e-05 5.18940324e-05 9.99862194e-01]\n",
            " [8.13300067e-05 4.81881325e-05 6.37131307e-05 9.99806881e-01]\n",
            " [9.96662347e-05 4.91396859e-05 7.58123788e-05 9.99775410e-01]\n",
            " [5.65700066e-05 3.96381765e-05 5.31099249e-05 9.99850750e-01]\n",
            " [4.60471783e-05 3.65667911e-05 4.94381711e-05 9.99867916e-01]\n",
            " [5.35826621e-05 3.98611228e-05 5.07895711e-05 9.99855757e-01]\n",
            " [5.34744140e-05 3.81628306e-05 5.01951508e-05 9.99858141e-01]\n",
            " [5.78222825e-05 4.39120413e-05 5.23518866e-05 9.99845862e-01]\n",
            " [5.29367462e-05 3.79210433e-05 5.14270432e-05 9.99857664e-01]\n",
            " [6.92012036e-05 4.13333546e-05 6.79795194e-05 9.99821484e-01]\n",
            " [1.67525024e-04 6.22017105e-05 9.63146304e-05 9.99673963e-01]\n",
            " [7.61187330e-05 4.21471450e-05 6.58123463e-05 9.99816000e-01]\n",
            " [7.02885300e-05 4.08114938e-05 6.39184072e-05 9.99825060e-01]]\n",
            "Predicted categories for X_seq:\n"
          ]
        },
        {
          "data": {
            "text/plain": [
              "array(['class', 'class', 'class', 'class', 'class', 'class', 'class',\n",
              "       'class', 'class', 'class', 'class', 'class', 'class', 'class',\n",
              "       'class', 'class', 'class', 'class', 'exercise', 'exercise',\n",
              "       'exercise', 'exercise', 'exercise', 'exercise', 'exercise',\n",
              "       'exercise', 'sleep', 'sleep', 'sleep', 'sleep', 'sleep', 'sleep',\n",
              "       'sleep', 'sleep', 'sleep', 'sleep', 'sleep', 'sleep', 'sleep',\n",
              "       'sleep', 'sleep', 'sleep', 'sleep', 'sleep', 'sleep', 'sleep',\n",
              "       'sleep', 'sleep', 'sleep', 'sleep', 'sleep', 'sleep', 'sleep',\n",
              "       'sleep', 'sleep', 'sleep', 'sleep', 'study', 'study', 'study',\n",
              "       'study', 'study', 'study', 'study', 'study', 'study', 'study',\n",
              "       'study', 'study', 'study', 'study', 'study', 'study', 'study',\n",
              "       'study', 'study', 'study', 'study', 'study'], dtype=object)"
            ]
          },
          "execution_count": 118,
          "metadata": {},
          "output_type": "execute_result"
        }
      ],
      "source": [
        "predictions = model.predict(X_test)\n",
        "\n",
        "print(predictions)\n",
        "\n",
        "# Convert predictions to class labels\n",
        "predicted_classes = np.argmax(predictions, axis=1)\n",
        "\n",
        "# Decode class labels back to original categories\n",
        "predicted_categories = encoder.inverse_transform(predicted_classes)\n",
        "\n",
        "print(\"Predicted categories for X_seq:\")\n",
        "predicted_categories"
      ]
    },
    {
      "cell_type": "code",
      "execution_count": 119,
      "metadata": {
        "colab": {
          "base_uri": "https://localhost:8080/"
        },
        "id": "eBFL66Ud5woC",
        "outputId": "a8f17b9d-3160-4ac8-dadb-100594845fcb"
      },
      "outputs": [
        {
          "name": "stdout",
          "output_type": "stream",
          "text": [
            "🔢 혼동 행렬 (Confusion Matrix):\n",
            "          class  exercise  sleep  study\n",
            "class        18         0      0      0\n",
            "exercise      0         8      0      0\n",
            "sleep         0         0     31      0\n",
            "study         0         0      0     22\n",
            "\n",
            "📊 분류 성능 보고서:\n",
            "              precision    recall  f1-score   support\n",
            "\n",
            "       class       1.00      1.00      1.00        18\n",
            "    exercise       1.00      1.00      1.00         8\n",
            "       sleep       1.00      1.00      1.00        31\n",
            "       study       1.00      1.00      1.00        22\n",
            "\n",
            "    accuracy                           1.00        79\n",
            "   macro avg       1.00      1.00      1.00        79\n",
            "weighted avg       1.00      1.00      1.00        79\n",
            "\n"
          ]
        }
      ],
      "source": [
        "from sklearn.metrics import classification_report, confusion_matrix\n",
        "import numpy as np\n",
        "import pandas as pd\n",
        "\n",
        "true_classes = np.argmax(y_test, axis=1)\n",
        "\n",
        "# 디코딩\n",
        "predicted_labels = encoder.inverse_transform(predicted_classes)\n",
        "true_labels = encoder.inverse_transform(true_classes)\n",
        "\n",
        "# 혼동 행렬\n",
        "conf_mat = confusion_matrix(true_labels, predicted_labels, labels=encoder.classes_)\n",
        "\n",
        "# Pandas DataFrame으로 보기 좋게 출력\n",
        "conf_df = pd.DataFrame(conf_mat, index=encoder.classes_, columns=encoder.classes_)\n",
        "\n",
        "print(\"🔢 혼동 행렬 (Confusion Matrix):\")\n",
        "print(conf_df)\n",
        "\n",
        "# 분류 리포트 (정밀도, 재현율, F1 등 포함)\n",
        "print(\"\\n📊 분류 성능 보고서:\")\n",
        "print(classification_report(true_labels, predicted_labels, target_names=encoder.classes_))"
      ]
    },
    {
      "cell_type": "code",
      "execution_count": 120,
      "metadata": {
        "colab": {
          "base_uri": "https://localhost:8080/"
        },
        "id": "PzogqEDK6Hz3",
        "outputId": "5d9e3979-d2a7-4b42-8821-edafece6f8c5"
      },
      "outputs": [
        {
          "name": "stdout",
          "output_type": "stream",
          "text": [
            "\u001b[1m3/3\u001b[0m \u001b[32m━━━━━━━━━━━━━━━━━━━━\u001b[0m\u001b[37m\u001b[0m \u001b[1m0s\u001b[0m 14ms/step\n",
            "                 Sample_Count  Mean_Confidence\n",
            "Predicted_Class                               \n",
            "0                        18.0         0.999804\n",
            "1                         8.0         0.998813\n",
            "2                        31.0         0.999705\n",
            "3                        22.0         0.999834\n"
          ]
        }
      ],
      "source": [
        "predictions = model.predict(X_test)\n",
        "predicted_classes = np.argmax(predictions, axis=1)\n",
        "true_classes = np.argmax(y_test, axis=1)  # y_test가 one-hot인 경우\n",
        "\n",
        "# 각 예측에서 softmax 최대값 (confidence)\n",
        "confidences = np.max(predictions, axis=1)\n",
        "\n",
        "# 예측된 클래스별 평균 confidence 계산\n",
        "results = {}\n",
        "for cls in np.unique(predicted_classes):\n",
        "    class_indices = np.where(predicted_classes == cls)[0]\n",
        "    class_confidences = confidences[class_indices]\n",
        "    results[cls] = {\n",
        "        'count': len(class_confidences),\n",
        "        'mean_confidence': np.mean(class_confidences)\n",
        "    }\n",
        "\n",
        "# 보기 좋게 출력\n",
        "df = pd.DataFrame(results).T\n",
        "df.index.name = 'Predicted_Class'\n",
        "df.columns = ['Sample_Count', 'Mean_Confidence']\n",
        "df = df.sort_index()\n",
        "print(df)"
      ]
    },
    {
      "cell_type": "markdown",
      "metadata": {
        "id": "ejJqB3nJ47H0"
      },
      "source": [
        "### Mobile model Inference"
      ]
    },
    {
      "cell_type": "code",
      "execution_count": 121,
      "metadata": {
        "colab": {
          "base_uri": "https://localhost:8080/"
        },
        "id": "lVXQLiMgm7Vo",
        "outputId": "a50d10dd-c9e3-4b02-fe59-ecfd6db6ab66"
      },
      "outputs": [
        {
          "name": "stdout",
          "output_type": "stream",
          "text": [
            "[[9.9982113e-01 5.0658458e-05 1.0490808e-05 1.1771988e-04]]\n",
            "[[9.99838471e-01 4.85150231e-05 9.37551431e-06 1.03628576e-04]]\n",
            "[[9.9981350e-01 5.4978173e-05 1.1333558e-05 1.2027477e-04]]\n",
            "[[9.9980468e-01 5.3989184e-05 1.1534307e-05 1.2977568e-04]]\n",
            "[[9.9980026e-01 5.3232889e-05 1.1833927e-05 1.3478180e-04]]\n",
            "[[9.99819100e-01 5.12180195e-05 1.06633925e-05 1.19079115e-04]]\n",
            "[[9.9980587e-01 5.3004867e-05 1.1548081e-05 1.2954658e-04]]\n",
            "[[9.9980515e-01 5.2431438e-05 1.1570251e-05 1.3086283e-04]]\n",
            "[[9.9979562e-01 5.3094380e-05 1.1846269e-05 1.3954383e-04]]\n",
            "[[9.9979776e-01 5.3073534e-05 1.1881538e-05 1.3727997e-04]]\n",
            "[[9.9980229e-01 5.3137235e-05 1.1529727e-05 1.3300263e-04]]\n",
            "[[9.9980253e-01 5.4316231e-05 1.1660901e-05 1.3154116e-04]]\n",
            "[[9.99794662e-01 6.03274493e-05 1.30400695e-05 1.32035682e-04]]\n",
            "[[9.9980611e-01 5.7751920e-05 1.2076391e-05 1.2408278e-04]]\n",
            "[[9.9979335e-01 5.6322206e-05 1.2560604e-05 1.3779195e-04]]\n",
            "[[9.9980885e-01 5.6788598e-05 1.1636512e-05 1.2269730e-04]]\n",
            "[[9.9982184e-01 5.6348901e-05 1.0930112e-05 1.1093117e-04]]\n",
            "[[9.9973971e-01 6.6346103e-05 1.6378832e-05 1.7761915e-04]]\n",
            "[[6.8447017e-04 9.9806672e-01 3.9610584e-04 8.5269968e-04]]\n",
            "[[4.8653825e-04 9.9910849e-01 1.4484009e-04 2.6006703e-04]]\n",
            "[[5.6926097e-04 9.9872512e-01 2.3735252e-04 4.6822827e-04]]\n",
            "[[3.0586403e-04 9.9921560e-01 1.3479743e-04 3.4380413e-04]]\n",
            "[[3.0546743e-04 9.9897885e-01 2.1871117e-04 4.9700495e-04]]\n",
            "[[4.4928570e-04 9.9894136e-01 1.6401027e-04 4.4537269e-04]]\n",
            "[[3.8680737e-04 9.9899751e-01 1.7325644e-04 4.4246082e-04]]\n",
            "[[4.7085100e-04 9.9847001e-01 2.9275491e-04 7.6638145e-04]]\n",
            "[[1.4121395e-04 3.1422944e-05 9.9971312e-01 1.1423507e-04]]\n",
            "[[1.4173052e-04 3.1883726e-05 9.9971277e-01 1.1368846e-04]]\n",
            "[[1.46211460e-04 3.31904448e-05 9.99703586e-01 1.17003416e-04]]\n",
            "[[1.43832396e-04 3.21652915e-05 9.99707401e-01 1.16586394e-04]]\n",
            "[[1.42350909e-04 3.21908410e-05 9.99711692e-01 1.13842514e-04]]\n",
            "[[1.3867595e-04 3.0928775e-05 9.9971956e-01 1.1080289e-04]]\n",
            "[[1.4395993e-04 3.2772441e-05 9.9970764e-01 1.1555432e-04]]\n",
            "[[1.4282802e-04 3.1679094e-05 9.9971038e-01 1.1515992e-04]]\n",
            "[[1.4297476e-04 3.2234260e-05 9.9971014e-01 1.1460267e-04]]\n",
            "[[1.4579443e-04 3.2994369e-05 9.9970454e-01 1.1666581e-04]]\n",
            "[[1.4490786e-04 3.2691743e-05 9.9970657e-01 1.1577923e-04]]\n",
            "[[1.41701021e-04 3.19331994e-05 9.99712527e-01 1.13769565e-04]]\n",
            "[[1.4480045e-04 3.2166816e-05 9.9970514e-01 1.1789609e-04]]\n",
            "[[1.4265007e-04 3.1713786e-05 9.9971002e-01 1.1561501e-04]]\n",
            "[[1.47587969e-04 3.33770731e-05 9.99701321e-01 1.17735304e-04]]\n",
            "[[1.5719641e-04 3.5935678e-05 9.9967968e-01 1.2725807e-04]]\n",
            "[[1.4852629e-04 3.3195261e-05 9.9969804e-01 1.2026846e-04]]\n",
            "[[1.5225865e-04 3.4748784e-05 9.9968970e-01 1.2325532e-04]]\n",
            "[[1.4870476e-04 3.3368469e-05 9.9969912e-01 1.1878514e-04]]\n",
            "[[1.4393998e-04 3.2358203e-05 9.9970919e-01 1.1444616e-04]]\n",
            "[[1.5696710e-04 3.4823755e-05 9.9968481e-01 1.2341232e-04]]\n",
            "[[1.4386348e-04 3.2655455e-05 9.9970788e-01 1.1560362e-04]]\n",
            "[[1.47099447e-04 3.36979174e-05 9.99698997e-01 1.20270866e-04]]\n",
            "[[1.4834202e-04 3.3569719e-05 9.9969912e-01 1.1894736e-04]]\n",
            "[[1.4523472e-04 3.2686523e-05 9.9970430e-01 1.1769467e-04]]\n",
            "[[1.45409795e-04 3.27635571e-05 9.99705493e-01 1.16338495e-04]]\n",
            "[[1.4248748e-04 3.1440421e-05 9.9971217e-01 1.1385798e-04]]\n",
            "[[1.4276092e-04 3.2260479e-05 9.9971157e-01 1.1335812e-04]]\n",
            "[[1.42323683e-04 3.08272465e-05 9.99714911e-01 1.11971494e-04]]\n",
            "[[1.4648747e-04 3.2852124e-05 9.9970227e-01 1.1843610e-04]]\n",
            "[[1.4291407e-04 3.2301461e-05 9.9971086e-01 1.1397277e-04]]\n",
            "[[6.5955886e-05 4.0595016e-05 6.1633276e-05 9.9983180e-01]]\n",
            "[[5.8621539e-05 4.1465402e-05 5.5129320e-05 9.9984479e-01]]\n",
            "[[5.7198773e-05 4.0349936e-05 5.3065694e-05 9.9984932e-01]]\n",
            "[[5.2804331e-05 3.6479265e-05 5.2144165e-05 9.9985862e-01]]\n",
            "[[5.5782672e-05 3.6404002e-05 5.5497407e-05 9.9985230e-01]]\n",
            "[[7.1274684e-05 4.5359600e-05 5.6877623e-05 9.9982649e-01]]\n",
            "[[5.5504275e-05 3.7956612e-05 5.0673989e-05 9.9985588e-01]]\n",
            "[[5.0639490e-05 3.7266684e-05 4.9573111e-05 9.9986243e-01]]\n",
            "[[5.3427608e-05 3.8885617e-05 5.1546373e-05 9.9985611e-01]]\n",
            "[[5.0417133e-05 3.5605779e-05 5.1894018e-05 9.9986207e-01]]\n",
            "[[8.1330079e-05 4.8188132e-05 6.3713182e-05 9.9980682e-01]]\n",
            "[[9.9666235e-05 4.9139682e-05 7.5812386e-05 9.9977547e-01]]\n",
            "[[5.6570050e-05 3.9638173e-05 5.3109961e-05 9.9985063e-01]]\n",
            "[[4.6047178e-05 3.6566787e-05 4.9438215e-05 9.9986792e-01]]\n",
            "[[5.3582655e-05 3.9861163e-05 5.0789567e-05 9.9985576e-01]]\n",
            "[[5.3474359e-05 3.8162827e-05 5.0195096e-05 9.9985814e-01]]\n",
            "[[5.7822286e-05 4.3912049e-05 5.2351887e-05 9.9984598e-01]]\n",
            "[[5.2936790e-05 3.7921080e-05 5.1427087e-05 9.9985766e-01]]\n",
            "[[6.920113e-05 4.133336e-05 6.797945e-05 9.998215e-01]]\n",
            "[[1.6752486e-04 6.2201645e-05 9.6314536e-05 9.9967396e-01]]\n",
            "[[7.611864e-05 4.214714e-05 6.581233e-05 9.998159e-01]]\n",
            "[[7.0288523e-05 4.0811497e-05 6.3918465e-05 9.9982506e-01]]\n",
            "Predicted categories for X_seq:\n",
            "['class', 'class', 'class', 'class', 'class', 'class', 'class', 'class', 'class', 'class', 'class', 'class', 'class', 'class', 'class', 'class', 'class', 'class', 'exercise', 'exercise', 'exercise', 'exercise', 'exercise', 'exercise', 'exercise', 'exercise', 'sleep', 'sleep', 'sleep', 'sleep', 'sleep', 'sleep', 'sleep', 'sleep', 'sleep', 'sleep', 'sleep', 'sleep', 'sleep', 'sleep', 'sleep', 'sleep', 'sleep', 'sleep', 'sleep', 'sleep', 'sleep', 'sleep', 'sleep', 'sleep', 'sleep', 'sleep', 'sleep', 'sleep', 'sleep', 'sleep', 'sleep', 'study', 'study', 'study', 'study', 'study', 'study', 'study', 'study', 'study', 'study', 'study', 'study', 'study', 'study', 'study', 'study', 'study', 'study', 'study', 'study', 'study', 'study']\n"
          ]
        }
      ],
      "source": [
        "interpreter = tf.lite.Interpreter(model_path=\"activity_model.tflite\")\n",
        "interpreter.allocate_tensors()\n",
        "\n",
        "input_details = interpreter.get_input_details()\n",
        "output_details = interpreter.get_output_details()\n",
        "\n",
        "X_test = X_test.astype(np.float32)  # TFLite는 float32 요구\n",
        "\n",
        "# 5. 예측 루프\n",
        "predicted_categories = []\n",
        "\n",
        "for i in range(X_test.shape[0]):\n",
        "    input_tensor = X_test[i:i+1]  # shape: (1, 12, 35)\n",
        "\n",
        "    interpreter.set_tensor(input_details[0]['index'], input_tensor)\n",
        "    interpreter.invoke()\n",
        "    output = interpreter.get_tensor(output_details[0]['index'])  # shape: (1, num_classes)\n",
        "    print(output)\n",
        "\n",
        "    predicted_index = np.argmax(output[0])  # 예측된 클래스 인덱스\n",
        "    predicted_label = encoder.inverse_transform([predicted_index])[0]  # 실제 라벨명으로 변환\n",
        "    predicted_categories.append(predicted_label)\n",
        "\n",
        "\n",
        "print(\"Predicted categories for X_seq:\")\n",
        "print(predicted_categories)"
      ]
    },
    {
      "cell_type": "code",
      "execution_count": 122,
      "metadata": {
        "colab": {
          "base_uri": "https://localhost:8080/"
        },
        "id": "jQe3U54f8sQ2",
        "outputId": "67f166f2-e818-4430-d61b-6fb2ed05a19f"
      },
      "outputs": [
        {
          "name": "stdout",
          "output_type": "stream",
          "text": [
            "🔢 혼동 행렬 (Confusion Matrix):\n",
            "          class  exercise  sleep  study\n",
            "class        18         0      0      0\n",
            "exercise      0         8      0      0\n",
            "sleep         0         0     31      0\n",
            "study         0         0      0     22\n",
            "\n",
            "📊 분류 성능 보고서:\n",
            "              precision    recall  f1-score   support\n",
            "\n",
            "       class       1.00      1.00      1.00        18\n",
            "    exercise       1.00      1.00      1.00         8\n",
            "       sleep       1.00      1.00      1.00        31\n",
            "       study       1.00      1.00      1.00        22\n",
            "\n",
            "    accuracy                           1.00        79\n",
            "   macro avg       1.00      1.00      1.00        79\n",
            "weighted avg       1.00      1.00      1.00        79\n",
            "\n"
          ]
        }
      ],
      "source": [
        "true_classes = np.argmax(y_test, axis=1)\n",
        "\n",
        "# 디코딩\n",
        "predicted_labels = encoder.inverse_transform(predicted_classes)\n",
        "true_labels = encoder.inverse_transform(true_classes)\n",
        "\n",
        "# 혼동 행렬\n",
        "conf_mat = confusion_matrix(true_labels, predicted_labels, labels=encoder.classes_)\n",
        "\n",
        "# Pandas DataFrame으로 보기 좋게 출력\n",
        "conf_df = pd.DataFrame(conf_mat, index=encoder.classes_, columns=encoder.classes_)\n",
        "\n",
        "print(\"🔢 혼동 행렬 (Confusion Matrix):\")\n",
        "print(conf_df)\n",
        "\n",
        "# 분류 리포트 (정밀도, 재현율, F1 등 포함)\n",
        "print(\"\\n📊 분류 성능 보고서:\")\n",
        "print(classification_report(true_labels, predicted_labels, target_names=encoder.classes_))"
      ]
    },
    {
      "cell_type": "code",
      "execution_count": 123,
      "metadata": {
        "colab": {
          "base_uri": "https://localhost:8080/"
        },
        "id": "YODfRO2o8wuS",
        "outputId": "32c9d12e-828f-4c1a-923e-b9332954bbad"
      },
      "outputs": [
        {
          "name": "stdout",
          "output_type": "stream",
          "text": [
            "                 Sample_Count  Mean_Confidence\n",
            "Predicted_Class                               \n",
            "0                        18.0         0.999804\n",
            "1                         8.0         0.998813\n",
            "2                        31.0         0.999705\n",
            "3                        22.0         0.999834\n"
          ]
        }
      ],
      "source": [
        "confidences = np.max(predictions, axis=1)\n",
        "\n",
        "results = {}\n",
        "for cls in np.unique(predicted_classes):\n",
        "    class_indices = np.where(predicted_classes == cls)[0]\n",
        "    class_confidences = confidences[class_indices]\n",
        "    results[cls] = {\n",
        "        'count': len(class_confidences),\n",
        "        'mean_confidence': np.mean(class_confidences)\n",
        "    }\n",
        "\n",
        "# 보기 좋게 출력\n",
        "df = pd.DataFrame(results).T\n",
        "df.index.name = 'Predicted_Class'\n",
        "df.columns = ['Sample_Count', 'Mean_Confidence']\n",
        "df = df.sort_index()\n",
        "print(df)"
      ]
    }
  ],
  "metadata": {
    "colab": {
      "provenance": []
    },
    "kernelspec": {
      "display_name": "Python 3",
      "name": "python3"
    },
    "language_info": {
      "name": "python"
    }
  },
  "nbformat": 4,
  "nbformat_minor": 0
}
